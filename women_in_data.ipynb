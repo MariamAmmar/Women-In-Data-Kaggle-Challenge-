{
 "cells": [
  {
   "cell_type": "markdown",
   "metadata": {},
   "source": [
    "# Women in Data  "
   ]
  },
  {
   "cell_type": "markdown",
   "metadata": {},
   "source": [
    "How do women fare in the heavily male-dominated data fields? Are these fields even, in fact, male-dominated? This analysis aims uses a Kaggle dataset of over 20,000 responses from October 2020 of participants working in positions ranging from  data analyst to machine learning engineer. It aims to answer the following questions:\n",
    "\n",
    "\n",
    "What is the ratio of male to female employees and students in the data-related fields?\n",
    "Is there a discrepency in type of experience needed depending on the gender of the employee?\n",
    "Are there any sub-sectors that feature more than one gender or another? \n",
    "What are some descriptive statistics of women working in data in the US?\n"
   ]
  },
  {
   "cell_type": "markdown",
   "metadata": {},
   "source": [
    "First we begin by importing the dataset and checking out some of the features that are present. "
   ]
  },
  {
   "cell_type": "code",
   "execution_count": 3,
   "metadata": {},
   "outputs": [
    {
     "name": "stderr",
     "output_type": "stream",
     "text": [
      "/opt/conda/lib/python3.7/site-packages/IPython/core/interactiveshell.py:3063: DtypeWarning: Columns (0) have mixed types.Specify dtype option on import or set low_memory=False.\n",
      "  interactivity=interactivity, compiler=compiler, result=result)\n"
     ]
    },
    {
     "data": {
      "text/html": [
       "<div>\n",
       "<style scoped>\n",
       "    .dataframe tbody tr th:only-of-type {\n",
       "        vertical-align: middle;\n",
       "    }\n",
       "\n",
       "    .dataframe tbody tr th {\n",
       "        vertical-align: top;\n",
       "    }\n",
       "\n",
       "    .dataframe thead th {\n",
       "        text-align: right;\n",
       "    }\n",
       "</style>\n",
       "<table border=\"1\" class=\"dataframe\">\n",
       "  <thead>\n",
       "    <tr style=\"text-align: right;\">\n",
       "      <th></th>\n",
       "      <th>Time from Start to Finish (seconds)</th>\n",
       "      <th>Q1</th>\n",
       "      <th>Q2</th>\n",
       "      <th>Q3</th>\n",
       "      <th>Q4</th>\n",
       "      <th>Q5</th>\n",
       "      <th>Q6</th>\n",
       "      <th>Q7_Part_1</th>\n",
       "      <th>Q7_Part_2</th>\n",
       "      <th>Q7_Part_3</th>\n",
       "      <th>...</th>\n",
       "      <th>Q35_B_Part_2</th>\n",
       "      <th>Q35_B_Part_3</th>\n",
       "      <th>Q35_B_Part_4</th>\n",
       "      <th>Q35_B_Part_5</th>\n",
       "      <th>Q35_B_Part_6</th>\n",
       "      <th>Q35_B_Part_7</th>\n",
       "      <th>Q35_B_Part_8</th>\n",
       "      <th>Q35_B_Part_9</th>\n",
       "      <th>Q35_B_Part_10</th>\n",
       "      <th>Q35_B_OTHER</th>\n",
       "    </tr>\n",
       "  </thead>\n",
       "  <tbody>\n",
       "    <tr>\n",
       "      <th>0</th>\n",
       "      <td>Duration (in seconds)</td>\n",
       "      <td>What is your age (# years)?</td>\n",
       "      <td>What is your gender? - Selected Choice</td>\n",
       "      <td>In which country do you currently reside?</td>\n",
       "      <td>What is the highest level of formal education ...</td>\n",
       "      <td>Select the title most similar to your current ...</td>\n",
       "      <td>For how many years have you been writing code ...</td>\n",
       "      <td>What programming languages do you use on a reg...</td>\n",
       "      <td>What programming languages do you use on a reg...</td>\n",
       "      <td>What programming languages do you use on a reg...</td>\n",
       "      <td>...</td>\n",
       "      <td>In the next 2 years, do you hope to become mor...</td>\n",
       "      <td>In the next 2 years, do you hope to become mor...</td>\n",
       "      <td>In the next 2 years, do you hope to become mor...</td>\n",
       "      <td>In the next 2 years, do you hope to become mor...</td>\n",
       "      <td>In the next 2 years, do you hope to become mor...</td>\n",
       "      <td>In the next 2 years, do you hope to become mor...</td>\n",
       "      <td>In the next 2 years, do you hope to become mor...</td>\n",
       "      <td>In the next 2 years, do you hope to become mor...</td>\n",
       "      <td>In the next 2 years, do you hope to become mor...</td>\n",
       "      <td>In the next 2 years, do you hope to become mor...</td>\n",
       "    </tr>\n",
       "    <tr>\n",
       "      <th>1</th>\n",
       "      <td>1838</td>\n",
       "      <td>35-39</td>\n",
       "      <td>Man</td>\n",
       "      <td>Colombia</td>\n",
       "      <td>Doctoral degree</td>\n",
       "      <td>Student</td>\n",
       "      <td>5-10 years</td>\n",
       "      <td>Python</td>\n",
       "      <td>R</td>\n",
       "      <td>SQL</td>\n",
       "      <td>...</td>\n",
       "      <td>NaN</td>\n",
       "      <td>NaN</td>\n",
       "      <td>NaN</td>\n",
       "      <td>TensorBoard</td>\n",
       "      <td>NaN</td>\n",
       "      <td>NaN</td>\n",
       "      <td>NaN</td>\n",
       "      <td>NaN</td>\n",
       "      <td>NaN</td>\n",
       "      <td>NaN</td>\n",
       "    </tr>\n",
       "    <tr>\n",
       "      <th>2</th>\n",
       "      <td>289287</td>\n",
       "      <td>30-34</td>\n",
       "      <td>Man</td>\n",
       "      <td>United States of America</td>\n",
       "      <td>Master’s degree</td>\n",
       "      <td>Data Engineer</td>\n",
       "      <td>5-10 years</td>\n",
       "      <td>Python</td>\n",
       "      <td>R</td>\n",
       "      <td>SQL</td>\n",
       "      <td>...</td>\n",
       "      <td>NaN</td>\n",
       "      <td>NaN</td>\n",
       "      <td>NaN</td>\n",
       "      <td>NaN</td>\n",
       "      <td>NaN</td>\n",
       "      <td>NaN</td>\n",
       "      <td>NaN</td>\n",
       "      <td>NaN</td>\n",
       "      <td>NaN</td>\n",
       "      <td>NaN</td>\n",
       "    </tr>\n",
       "    <tr>\n",
       "      <th>3</th>\n",
       "      <td>860</td>\n",
       "      <td>35-39</td>\n",
       "      <td>Man</td>\n",
       "      <td>Argentina</td>\n",
       "      <td>Bachelor’s degree</td>\n",
       "      <td>Software Engineer</td>\n",
       "      <td>10-20 years</td>\n",
       "      <td>NaN</td>\n",
       "      <td>NaN</td>\n",
       "      <td>NaN</td>\n",
       "      <td>...</td>\n",
       "      <td>NaN</td>\n",
       "      <td>NaN</td>\n",
       "      <td>NaN</td>\n",
       "      <td>NaN</td>\n",
       "      <td>NaN</td>\n",
       "      <td>NaN</td>\n",
       "      <td>NaN</td>\n",
       "      <td>NaN</td>\n",
       "      <td>None</td>\n",
       "      <td>NaN</td>\n",
       "    </tr>\n",
       "    <tr>\n",
       "      <th>4</th>\n",
       "      <td>507</td>\n",
       "      <td>30-34</td>\n",
       "      <td>Man</td>\n",
       "      <td>United States of America</td>\n",
       "      <td>Master’s degree</td>\n",
       "      <td>Data Scientist</td>\n",
       "      <td>5-10 years</td>\n",
       "      <td>Python</td>\n",
       "      <td>NaN</td>\n",
       "      <td>SQL</td>\n",
       "      <td>...</td>\n",
       "      <td>NaN</td>\n",
       "      <td>NaN</td>\n",
       "      <td>NaN</td>\n",
       "      <td>NaN</td>\n",
       "      <td>NaN</td>\n",
       "      <td>NaN</td>\n",
       "      <td>NaN</td>\n",
       "      <td>NaN</td>\n",
       "      <td>NaN</td>\n",
       "      <td>NaN</td>\n",
       "    </tr>\n",
       "    <tr>\n",
       "      <th>5</th>\n",
       "      <td>78</td>\n",
       "      <td>30-34</td>\n",
       "      <td>Man</td>\n",
       "      <td>Japan</td>\n",
       "      <td>Master’s degree</td>\n",
       "      <td>Software Engineer</td>\n",
       "      <td>3-5 years</td>\n",
       "      <td>Python</td>\n",
       "      <td>NaN</td>\n",
       "      <td>NaN</td>\n",
       "      <td>...</td>\n",
       "      <td>NaN</td>\n",
       "      <td>NaN</td>\n",
       "      <td>NaN</td>\n",
       "      <td>NaN</td>\n",
       "      <td>NaN</td>\n",
       "      <td>NaN</td>\n",
       "      <td>NaN</td>\n",
       "      <td>NaN</td>\n",
       "      <td>NaN</td>\n",
       "      <td>NaN</td>\n",
       "    </tr>\n",
       "    <tr>\n",
       "      <th>6</th>\n",
       "      <td>401</td>\n",
       "      <td>30-34</td>\n",
       "      <td>Man</td>\n",
       "      <td>India</td>\n",
       "      <td>Bachelor’s degree</td>\n",
       "      <td>Data Analyst</td>\n",
       "      <td>&lt; 1 years</td>\n",
       "      <td>Python</td>\n",
       "      <td>R</td>\n",
       "      <td>NaN</td>\n",
       "      <td>...</td>\n",
       "      <td>NaN</td>\n",
       "      <td>NaN</td>\n",
       "      <td>NaN</td>\n",
       "      <td>NaN</td>\n",
       "      <td>NaN</td>\n",
       "      <td>NaN</td>\n",
       "      <td>NaN</td>\n",
       "      <td>NaN</td>\n",
       "      <td>NaN</td>\n",
       "      <td>NaN</td>\n",
       "    </tr>\n",
       "    <tr>\n",
       "      <th>7</th>\n",
       "      <td>748</td>\n",
       "      <td>22-24</td>\n",
       "      <td>Man</td>\n",
       "      <td>Brazil</td>\n",
       "      <td>Bachelor’s degree</td>\n",
       "      <td>Student</td>\n",
       "      <td>3-5 years</td>\n",
       "      <td>Python</td>\n",
       "      <td>R</td>\n",
       "      <td>NaN</td>\n",
       "      <td>...</td>\n",
       "      <td>NaN</td>\n",
       "      <td>NaN</td>\n",
       "      <td>NaN</td>\n",
       "      <td>NaN</td>\n",
       "      <td>NaN</td>\n",
       "      <td>NaN</td>\n",
       "      <td>NaN</td>\n",
       "      <td>NaN</td>\n",
       "      <td>NaN</td>\n",
       "      <td>NaN</td>\n",
       "    </tr>\n",
       "    <tr>\n",
       "      <th>8</th>\n",
       "      <td>171196</td>\n",
       "      <td>25-29</td>\n",
       "      <td>Woman</td>\n",
       "      <td>China</td>\n",
       "      <td>Master’s degree</td>\n",
       "      <td>Student</td>\n",
       "      <td>&lt; 1 years</td>\n",
       "      <td>NaN</td>\n",
       "      <td>R</td>\n",
       "      <td>NaN</td>\n",
       "      <td>...</td>\n",
       "      <td>NaN</td>\n",
       "      <td>NaN</td>\n",
       "      <td>NaN</td>\n",
       "      <td>NaN</td>\n",
       "      <td>NaN</td>\n",
       "      <td>NaN</td>\n",
       "      <td>NaN</td>\n",
       "      <td>NaN</td>\n",
       "      <td>NaN</td>\n",
       "      <td>NaN</td>\n",
       "    </tr>\n",
       "    <tr>\n",
       "      <th>9</th>\n",
       "      <td>762</td>\n",
       "      <td>35-39</td>\n",
       "      <td>Man</td>\n",
       "      <td>Germany</td>\n",
       "      <td>Doctoral degree</td>\n",
       "      <td>Data Scientist</td>\n",
       "      <td>5-10 years</td>\n",
       "      <td>Python</td>\n",
       "      <td>NaN</td>\n",
       "      <td>SQL</td>\n",
       "      <td>...</td>\n",
       "      <td>NaN</td>\n",
       "      <td>NaN</td>\n",
       "      <td>NaN</td>\n",
       "      <td>NaN</td>\n",
       "      <td>NaN</td>\n",
       "      <td>NaN</td>\n",
       "      <td>NaN</td>\n",
       "      <td>NaN</td>\n",
       "      <td>NaN</td>\n",
       "      <td>NaN</td>\n",
       "    </tr>\n",
       "  </tbody>\n",
       "</table>\n",
       "<p>10 rows × 355 columns</p>\n",
       "</div>"
      ],
      "text/plain": [
       "  Time from Start to Finish (seconds)                           Q1  \\\n",
       "0               Duration (in seconds)  What is your age (# years)?   \n",
       "1                                1838                        35-39   \n",
       "2                              289287                        30-34   \n",
       "3                                 860                        35-39   \n",
       "4                                 507                        30-34   \n",
       "5                                  78                        30-34   \n",
       "6                                 401                        30-34   \n",
       "7                                 748                        22-24   \n",
       "8                              171196                        25-29   \n",
       "9                                 762                        35-39   \n",
       "\n",
       "                                       Q2  \\\n",
       "0  What is your gender? - Selected Choice   \n",
       "1                                     Man   \n",
       "2                                     Man   \n",
       "3                                     Man   \n",
       "4                                     Man   \n",
       "5                                     Man   \n",
       "6                                     Man   \n",
       "7                                     Man   \n",
       "8                                   Woman   \n",
       "9                                     Man   \n",
       "\n",
       "                                          Q3  \\\n",
       "0  In which country do you currently reside?   \n",
       "1                                   Colombia   \n",
       "2                   United States of America   \n",
       "3                                  Argentina   \n",
       "4                   United States of America   \n",
       "5                                      Japan   \n",
       "6                                      India   \n",
       "7                                     Brazil   \n",
       "8                                      China   \n",
       "9                                    Germany   \n",
       "\n",
       "                                                  Q4  \\\n",
       "0  What is the highest level of formal education ...   \n",
       "1                                    Doctoral degree   \n",
       "2                                    Master’s degree   \n",
       "3                                  Bachelor’s degree   \n",
       "4                                    Master’s degree   \n",
       "5                                    Master’s degree   \n",
       "6                                  Bachelor’s degree   \n",
       "7                                  Bachelor’s degree   \n",
       "8                                    Master’s degree   \n",
       "9                                    Doctoral degree   \n",
       "\n",
       "                                                  Q5  \\\n",
       "0  Select the title most similar to your current ...   \n",
       "1                                            Student   \n",
       "2                                      Data Engineer   \n",
       "3                                  Software Engineer   \n",
       "4                                     Data Scientist   \n",
       "5                                  Software Engineer   \n",
       "6                                       Data Analyst   \n",
       "7                                            Student   \n",
       "8                                            Student   \n",
       "9                                     Data Scientist   \n",
       "\n",
       "                                                  Q6  \\\n",
       "0  For how many years have you been writing code ...   \n",
       "1                                         5-10 years   \n",
       "2                                         5-10 years   \n",
       "3                                        10-20 years   \n",
       "4                                         5-10 years   \n",
       "5                                          3-5 years   \n",
       "6                                          < 1 years   \n",
       "7                                          3-5 years   \n",
       "8                                          < 1 years   \n",
       "9                                         5-10 years   \n",
       "\n",
       "                                           Q7_Part_1  \\\n",
       "0  What programming languages do you use on a reg...   \n",
       "1                                             Python   \n",
       "2                                             Python   \n",
       "3                                                NaN   \n",
       "4                                             Python   \n",
       "5                                             Python   \n",
       "6                                             Python   \n",
       "7                                             Python   \n",
       "8                                                NaN   \n",
       "9                                             Python   \n",
       "\n",
       "                                           Q7_Part_2  \\\n",
       "0  What programming languages do you use on a reg...   \n",
       "1                                                  R   \n",
       "2                                                  R   \n",
       "3                                                NaN   \n",
       "4                                                NaN   \n",
       "5                                                NaN   \n",
       "6                                                  R   \n",
       "7                                                  R   \n",
       "8                                                  R   \n",
       "9                                                NaN   \n",
       "\n",
       "                                           Q7_Part_3  ...  \\\n",
       "0  What programming languages do you use on a reg...  ...   \n",
       "1                                                SQL  ...   \n",
       "2                                                SQL  ...   \n",
       "3                                                NaN  ...   \n",
       "4                                                SQL  ...   \n",
       "5                                                NaN  ...   \n",
       "6                                                NaN  ...   \n",
       "7                                                NaN  ...   \n",
       "8                                                NaN  ...   \n",
       "9                                                SQL  ...   \n",
       "\n",
       "                                        Q35_B_Part_2  \\\n",
       "0  In the next 2 years, do you hope to become mor...   \n",
       "1                                                NaN   \n",
       "2                                                NaN   \n",
       "3                                                NaN   \n",
       "4                                                NaN   \n",
       "5                                                NaN   \n",
       "6                                                NaN   \n",
       "7                                                NaN   \n",
       "8                                                NaN   \n",
       "9                                                NaN   \n",
       "\n",
       "                                        Q35_B_Part_3  \\\n",
       "0  In the next 2 years, do you hope to become mor...   \n",
       "1                                                NaN   \n",
       "2                                                NaN   \n",
       "3                                                NaN   \n",
       "4                                                NaN   \n",
       "5                                                NaN   \n",
       "6                                                NaN   \n",
       "7                                                NaN   \n",
       "8                                                NaN   \n",
       "9                                                NaN   \n",
       "\n",
       "                                        Q35_B_Part_4  \\\n",
       "0  In the next 2 years, do you hope to become mor...   \n",
       "1                                                NaN   \n",
       "2                                                NaN   \n",
       "3                                                NaN   \n",
       "4                                                NaN   \n",
       "5                                                NaN   \n",
       "6                                                NaN   \n",
       "7                                                NaN   \n",
       "8                                                NaN   \n",
       "9                                                NaN   \n",
       "\n",
       "                                        Q35_B_Part_5  \\\n",
       "0  In the next 2 years, do you hope to become mor...   \n",
       "1                                       TensorBoard    \n",
       "2                                                NaN   \n",
       "3                                                NaN   \n",
       "4                                                NaN   \n",
       "5                                                NaN   \n",
       "6                                                NaN   \n",
       "7                                                NaN   \n",
       "8                                                NaN   \n",
       "9                                                NaN   \n",
       "\n",
       "                                        Q35_B_Part_6  \\\n",
       "0  In the next 2 years, do you hope to become mor...   \n",
       "1                                                NaN   \n",
       "2                                                NaN   \n",
       "3                                                NaN   \n",
       "4                                                NaN   \n",
       "5                                                NaN   \n",
       "6                                                NaN   \n",
       "7                                                NaN   \n",
       "8                                                NaN   \n",
       "9                                                NaN   \n",
       "\n",
       "                                        Q35_B_Part_7  \\\n",
       "0  In the next 2 years, do you hope to become mor...   \n",
       "1                                                NaN   \n",
       "2                                                NaN   \n",
       "3                                                NaN   \n",
       "4                                                NaN   \n",
       "5                                                NaN   \n",
       "6                                                NaN   \n",
       "7                                                NaN   \n",
       "8                                                NaN   \n",
       "9                                                NaN   \n",
       "\n",
       "                                        Q35_B_Part_8  \\\n",
       "0  In the next 2 years, do you hope to become mor...   \n",
       "1                                                NaN   \n",
       "2                                                NaN   \n",
       "3                                                NaN   \n",
       "4                                                NaN   \n",
       "5                                                NaN   \n",
       "6                                                NaN   \n",
       "7                                                NaN   \n",
       "8                                                NaN   \n",
       "9                                                NaN   \n",
       "\n",
       "                                        Q35_B_Part_9  \\\n",
       "0  In the next 2 years, do you hope to become mor...   \n",
       "1                                                NaN   \n",
       "2                                                NaN   \n",
       "3                                                NaN   \n",
       "4                                                NaN   \n",
       "5                                                NaN   \n",
       "6                                                NaN   \n",
       "7                                                NaN   \n",
       "8                                                NaN   \n",
       "9                                                NaN   \n",
       "\n",
       "                                       Q35_B_Part_10  \\\n",
       "0  In the next 2 years, do you hope to become mor...   \n",
       "1                                                NaN   \n",
       "2                                                NaN   \n",
       "3                                               None   \n",
       "4                                                NaN   \n",
       "5                                                NaN   \n",
       "6                                                NaN   \n",
       "7                                                NaN   \n",
       "8                                                NaN   \n",
       "9                                                NaN   \n",
       "\n",
       "                                         Q35_B_OTHER  \n",
       "0  In the next 2 years, do you hope to become mor...  \n",
       "1                                                NaN  \n",
       "2                                                NaN  \n",
       "3                                                NaN  \n",
       "4                                                NaN  \n",
       "5                                                NaN  \n",
       "6                                                NaN  \n",
       "7                                                NaN  \n",
       "8                                                NaN  \n",
       "9                                                NaN  \n",
       "\n",
       "[10 rows x 355 columns]"
      ]
     },
     "execution_count": 3,
     "metadata": {},
     "output_type": "execute_result"
    }
   ],
   "source": [
    "import pandas as pd\n",
    "import matplotlib.pyplot as plt\n",
    "import seaborn as sns\n",
    "\n",
    "data = pd.read_csv(\"/kaggle/input/kaggle-survey-2020/kaggle_survey_2020_responses.csv\")\n",
    "\n",
    "data.head(10)"
   ]
  },
  {
   "cell_type": "markdown",
   "metadata": {},
   "source": [
    "## Exploration"
   ]
  },
  {
   "cell_type": "code",
   "execution_count": 5,
   "metadata": {},
   "outputs": [
    {
     "data": {
      "text/plain": [
       "Python                                                                                                        14241\n",
       "R                                                                                                              1259\n",
       "SQL                                                                                                             849\n",
       "C++                                                                                                             325\n",
       "C                                                                                                               301\n",
       "MATLAB                                                                                                          195\n",
       "Java                                                                                                            167\n",
       "Other                                                                                                           151\n",
       "Julia                                                                                                           121\n",
       "Javascript                                                                                                       88\n",
       "None                                                                                                             81\n",
       "Bash                                                                                                             26\n",
       "Swift                                                                                                            17\n",
       "What programming language would you recommend an aspiring data scientist to learn first? - Selected Choice        1\n",
       "Name: Q8, dtype: int64"
      ]
     },
     "execution_count": 5,
     "metadata": {},
     "output_type": "execute_result"
    }
   ],
   "source": [
    "data[\"Q8\"].value_counts()"
   ]
  },
  {
   "cell_type": "markdown",
   "metadata": {},
   "source": [
    "We can see here that most who are working in the field of data recommend learning Python as the first language for aspiring data scientists. Hooray! "
   ]
  },
  {
   "cell_type": "code",
   "execution_count": 6,
   "metadata": {},
   "outputs": [
    {
     "data": {
      "text/plain": [
       "Man                                       15789\n",
       "Woman                                      3878\n",
       "Prefer not to say                           263\n",
       "Prefer to self-describe                      54\n",
       "Nonbinary                                    52\n",
       "What is your gender? - Selected Choice        1\n",
       "Name: Q2, dtype: int64"
      ]
     },
     "execution_count": 6,
     "metadata": {},
     "output_type": "execute_result"
    }
   ],
   "source": [
    "data[\"Q2\"].value_counts()"
   ]
  },
  {
   "cell_type": "markdown",
   "metadata": {},
   "source": [
    "Here, we can already see that there are 3,878 women and 15,789 men who completed the survey. That means that for every women, there are 4 men.\n",
    "\n",
    "But, how does this fare depending on the country? \n",
    "Let's take a look at the US. "
   ]
  },
  {
   "cell_type": "code",
   "execution_count": 7,
   "metadata": {},
   "outputs": [
    {
     "data": {
      "text/plain": [
       "Man                        1680\n",
       "Woman                       483\n",
       "Prefer not to say            50\n",
       "Nonbinary                    18\n",
       "Prefer to self-describe       6\n",
       "Name: Q2, dtype: int64"
      ]
     },
     "execution_count": 7,
     "metadata": {},
     "output_type": "execute_result"
    }
   ],
   "source": [
    "data[data[\"Q3\"] == \"United States of America\"][\"Q2\"].value_counts()"
   ]
  },
  {
   "cell_type": "markdown",
   "metadata": {},
   "source": [
    "Here we can see that in the US,  the discrepency is not as intense since for every women in the field there are 3.5 men. What if we are curious to see how this ratio fares throughout all of the countries listed on our survey? We will visualize this later, but first let's clean up this column a bit. Since we can see that Nonbinary genders and unknown genders make up only about 2% of all of our observations, we can take them out without severely affecting out analysis. "
   ]
  },
  {
   "cell_type": "code",
   "execution_count": 21,
   "metadata": {},
   "outputs": [],
   "source": [
    "## First we start by splitting the datasets into the genders that we want to analyze. Now have these individual datasets that we can use for out analysis later on.\n",
    "women = data[data[\"Q2\"] == \"Woman\"]\n",
    "men = data[data[\"Q2\"] == \"Man\"]\n",
    "\n",
    "#Next we will combined the new subdatasets to get a complete data set with both genders that we wish to analyze. \n",
    "combined = women.merge(men, how = \"outer\")\n"
   ]
  },
  {
   "cell_type": "markdown",
   "metadata": {},
   "source": [
    "## Differences in Level of Education "
   ]
  },
  {
   "cell_type": "code",
   "execution_count": 22,
   "metadata": {},
   "outputs": [
    {
     "data": {
      "text/plain": [
       "Text(0.5, 1.0, 'Woman in Data Education')"
      ]
     },
     "execution_count": 22,
     "metadata": {},
     "output_type": "execute_result"
    },
    {
     "data": {
      "image/png": "[encoded data removed]",
      "text/plain": [
       "<Figure size 1440x360 with 1 Axes>"
      ]
     },
     "metadata": {
      "needs_background": "light"
     },
     "output_type": "display_data"
    }
   ],
   "source": [
    "import seaborn as sns\n",
    "import matplotlib.pyplot as plt \n",
    "\n",
    "# fig, axs = plt.subplots(2)\n",
    "# fig.suptitle('Vertically stacked subplots')\n",
    "# ax1.women[\"Q4\"].value_counts().plot(kind='barh')\n",
    "# ax2.men[\"Q4\"].value_counts().plot(kind='barh')\n",
    "\n",
    "\n",
    "women_count = women[\"Q4\"].value_counts()\n",
    "plt.figure(figsize=(20,5))\n",
    "sns.barplot(women_count.index, women_count.values, alpha=0.8)\n",
    "plt.title('Woman in Data Education')"
   ]
  },
  {
   "cell_type": "code",
   "execution_count": 10,
   "metadata": {},
   "outputs": [
    {
     "data": {
      "text/plain": [
       "Text(0.5, 1.0, 'Men in Data Education')"
      ]
     },
     "execution_count": 10,
     "metadata": {},
     "output_type": "execute_result"
    },
    {
     "data": {
      "image/png": "[encoded data removed]",
      "text/plain": [
       "<Figure size 1440x360 with 1 Axes>"
      ]
     },
     "metadata": {
      "needs_background": "light"
     },
     "output_type": "display_data"
    }
   ],
   "source": [
    "men_count = men[\"Q4\"].value_counts()\n",
    "plt.figure(figsize=(20,5))\n",
    "sns.barplot(men_count.index, men_count.values, alpha=0.8)\n",
    "plt.title('Men in Data Education')\n"
   ]
  },
  {
   "cell_type": "markdown",
   "metadata": {},
   "source": [
    "As we can see from the graphs of above, more men hold only a bachelor's degree but there is not major discrepency between the level of education needed by either gender. "
   ]
  },
  {
   "cell_type": "code",
   "execution_count": 23,
   "metadata": {},
   "outputs": [],
   "source": [
    "women_titles = women[\"Q5\"].value_counts()[:6]"
   ]
  },
  {
   "cell_type": "code",
   "execution_count": 24,
   "metadata": {},
   "outputs": [],
   "source": [
    "men_titles = men[\"Q5\"].value_counts()[:6]"
   ]
  },
  {
   "cell_type": "code",
   "execution_count": 27,
   "metadata": {},
   "outputs": [
    {
     "data": {
      "text/plain": [
       "Text(0.5, 1.0, 'Men vs Women in Data Positions Internationally')"
      ]
     },
     "execution_count": 27,
     "metadata": {},
     "output_type": "execute_result"
    },
    {
     "data": {
      "image/png": "[encoded data removed]",
      "text/plain": [
       "<Figure size 1440x360 with 1 Axes>"
      ]
     },
     "metadata": {
      "needs_background": "light"
     },
     "output_type": "display_data"
    }
   ],
   "source": [
    "width = 0.25\n",
    "\n",
    "pos = list(range(len(combined['Q3'])))\n",
    "fig, axs = plt.subplots(figsize=(20,5))\n",
    "plt.bar(men_titles.index, men_titles.values, width)\n",
    "plt.bar(women_titles.index, women_titles.values, width, align = \"edge\")\n",
    "plt.title('Men vs Women in Data Positions Internationally')\n"
   ]
  },
  {
   "cell_type": "markdown",
   "metadata": {},
   "source": [
    "We can see here that each of the major position in the surveys has severe discrepency with software engineering featuring the greatest discrepency and data analyst featuring the least. "
   ]
  },
  {
   "cell_type": "code",
   "execution_count": 26,
   "metadata": {},
   "outputs": [
    {
     "data": {
      "text/plain": [
       "Text(0.5, 1.0, 'Men vs Women in Data Positions within the US')"
      ]
     },
     "execution_count": 26,
     "metadata": {},
     "output_type": "execute_result"
    },
    {
     "data": {
      "image/png": "[encoded data removed]",
      "text/plain": [
       "<Figure size 1440x360 with 1 Axes>"
      ]
     },
     "metadata": {
      "needs_background": "light"
     },
     "output_type": "display_data"
    }
   ],
   "source": [
    "men_titles_usa = men[men[\"Q3\"]==\"United States of America\"][\"Q5\"].value_counts()[:8]\n",
    "women_titles_usa = women[women[\"Q3\"]==\"United States of America\"][\"Q5\"].value_counts()[:8]\n",
    "width = 0.25\n",
    "\n",
    "pos = list(range(len(combined['Q3'])))\n",
    "fig, axs = plt.subplots(figsize=(20,5))\n",
    "plt.bar(men_titles_usa.index, men_titles_usa.values, width)\n",
    "plt.bar(women_titles_usa.index, women_titles_usa.values, width, align = \"edge\")\n",
    "plt.title('Men vs Women in Data Positions within the US')\n",
    "\n"
   ]
  },
  {
   "cell_type": "markdown",
   "metadata": {},
   "source": [
    "We can see here that each of the major positions in the surveys has severe discrepency with software engineering featuring the greatest discrepency and data analyst and student positions featuring the least. Compared to the international chart, there are significantly more female students in the US. "
   ]
  },
  {
   "cell_type": "markdown",
   "metadata": {},
   "source": [
    "Let's narrow our analysis down by looking at women working in data within the US. \n",
    "\n",
    "It would be interesting to look at salary differences but it's difficult to compare these two categories since there are a lot fewer women who took the survey than men. Let's keep these features, but convert some values into percentages to get a clearer picture. "
   ]
  },
  {
   "cell_type": "code",
   "execution_count": 29,
   "metadata": {},
   "outputs": [
    {
     "data": {
      "text/html": [
       "<div>\n",
       "<style scoped>\n",
       "    .dataframe tbody tr th:only-of-type {\n",
       "        vertical-align: middle;\n",
       "    }\n",
       "\n",
       "    .dataframe tbody tr th {\n",
       "        vertical-align: top;\n",
       "    }\n",
       "\n",
       "    .dataframe thead th {\n",
       "        text-align: right;\n",
       "    }\n",
       "</style>\n",
       "<table border=\"1\" class=\"dataframe\">\n",
       "  <thead>\n",
       "    <tr style=\"text-align: right;\">\n",
       "      <th></th>\n",
       "      <th>index</th>\n",
       "      <th>0</th>\n",
       "      <th>percentfromtotal</th>\n",
       "    </tr>\n",
       "  </thead>\n",
       "  <tbody>\n",
       "    <tr>\n",
       "      <th>0</th>\n",
       "      <td>164</td>\n",
       "      <td>100,000-124,999</td>\n",
       "      <td>17.118998</td>\n",
       "    </tr>\n",
       "    <tr>\n",
       "      <th>1</th>\n",
       "      <td>162</td>\n",
       "      <td>150,000-199,999</td>\n",
       "      <td>16.910230</td>\n",
       "    </tr>\n",
       "    <tr>\n",
       "      <th>2</th>\n",
       "      <td>130</td>\n",
       "      <td>125,000-149,999</td>\n",
       "      <td>13.569937</td>\n",
       "    </tr>\n",
       "    <tr>\n",
       "      <th>3</th>\n",
       "      <td>73</td>\n",
       "      <td>90,000-99,999</td>\n",
       "      <td>7.620042</td>\n",
       "    </tr>\n",
       "    <tr>\n",
       "      <th>4</th>\n",
       "      <td>67</td>\n",
       "      <td>200,000-249,999</td>\n",
       "      <td>6.993737</td>\n",
       "    </tr>\n",
       "    <tr>\n",
       "      <th>5</th>\n",
       "      <td>63</td>\n",
       "      <td>70,000-79,999</td>\n",
       "      <td>6.576200</td>\n",
       "    </tr>\n",
       "    <tr>\n",
       "      <th>6</th>\n",
       "      <td>57</td>\n",
       "      <td>80,000-89,999</td>\n",
       "      <td>5.949896</td>\n",
       "    </tr>\n",
       "    <tr>\n",
       "      <th>7</th>\n",
       "      <td>54</td>\n",
       "      <td>$0-999</td>\n",
       "      <td>5.636743</td>\n",
       "    </tr>\n",
       "    <tr>\n",
       "      <th>8</th>\n",
       "      <td>36</td>\n",
       "      <td>60,000-69,999</td>\n",
       "      <td>3.757829</td>\n",
       "    </tr>\n",
       "    <tr>\n",
       "      <th>9</th>\n",
       "      <td>27</td>\n",
       "      <td>50,000-59,999</td>\n",
       "      <td>2.818372</td>\n",
       "    </tr>\n",
       "    <tr>\n",
       "      <th>10</th>\n",
       "      <td>25</td>\n",
       "      <td>300,000-500,000</td>\n",
       "      <td>2.609603</td>\n",
       "    </tr>\n",
       "    <tr>\n",
       "      <th>11</th>\n",
       "      <td>20</td>\n",
       "      <td>40,000-49,999</td>\n",
       "      <td>2.087683</td>\n",
       "    </tr>\n",
       "    <tr>\n",
       "      <th>12</th>\n",
       "      <td>18</td>\n",
       "      <td>250,000-299,999</td>\n",
       "      <td>1.878914</td>\n",
       "    </tr>\n",
       "    <tr>\n",
       "      <th>13</th>\n",
       "      <td>14</td>\n",
       "      <td>30,000-39,999</td>\n",
       "      <td>1.461378</td>\n",
       "    </tr>\n",
       "    <tr>\n",
       "      <th>14</th>\n",
       "      <td>9</td>\n",
       "      <td>10,000-14,999</td>\n",
       "      <td>0.939457</td>\n",
       "    </tr>\n",
       "    <tr>\n",
       "      <th>15</th>\n",
       "      <td>8</td>\n",
       "      <td>&gt; $500,000</td>\n",
       "      <td>0.835073</td>\n",
       "    </tr>\n",
       "    <tr>\n",
       "      <th>16</th>\n",
       "      <td>6</td>\n",
       "      <td>25,000-29,999</td>\n",
       "      <td>0.626305</td>\n",
       "    </tr>\n",
       "    <tr>\n",
       "      <th>17</th>\n",
       "      <td>5</td>\n",
       "      <td>20,000-24,999</td>\n",
       "      <td>0.521921</td>\n",
       "    </tr>\n",
       "    <tr>\n",
       "      <th>18</th>\n",
       "      <td>5</td>\n",
       "      <td>15,000-19,999</td>\n",
       "      <td>0.521921</td>\n",
       "    </tr>\n",
       "    <tr>\n",
       "      <th>19</th>\n",
       "      <td>5</td>\n",
       "      <td>1,000-1,999</td>\n",
       "      <td>0.521921</td>\n",
       "    </tr>\n",
       "    <tr>\n",
       "      <th>20</th>\n",
       "      <td>3</td>\n",
       "      <td>5,000-7,499</td>\n",
       "      <td>0.313152</td>\n",
       "    </tr>\n",
       "    <tr>\n",
       "      <th>21</th>\n",
       "      <td>3</td>\n",
       "      <td>7,500-9,999</td>\n",
       "      <td>0.313152</td>\n",
       "    </tr>\n",
       "    <tr>\n",
       "      <th>22</th>\n",
       "      <td>2</td>\n",
       "      <td>2,000-2,999</td>\n",
       "      <td>0.208768</td>\n",
       "    </tr>\n",
       "    <tr>\n",
       "      <th>23</th>\n",
       "      <td>1</td>\n",
       "      <td>4,000-4,999</td>\n",
       "      <td>0.104384</td>\n",
       "    </tr>\n",
       "    <tr>\n",
       "      <th>24</th>\n",
       "      <td>1</td>\n",
       "      <td>3,000-3,999</td>\n",
       "      <td>0.104384</td>\n",
       "    </tr>\n",
       "  </tbody>\n",
       "</table>\n",
       "</div>"
      ],
      "text/plain": [
       "    index                0  percentfromtotal\n",
       "0     164  100,000-124,999         17.118998\n",
       "1     162  150,000-199,999         16.910230\n",
       "2     130  125,000-149,999         13.569937\n",
       "3      73    90,000-99,999          7.620042\n",
       "4      67  200,000-249,999          6.993737\n",
       "5      63    70,000-79,999          6.576200\n",
       "6      57    80,000-89,999          5.949896\n",
       "7      54           $0-999          5.636743\n",
       "8      36    60,000-69,999          3.757829\n",
       "9      27    50,000-59,999          2.818372\n",
       "10     25  300,000-500,000          2.609603\n",
       "11     20    40,000-49,999          2.087683\n",
       "12     18  250,000-299,999          1.878914\n",
       "13     14    30,000-39,999          1.461378\n",
       "14      9    10,000-14,999          0.939457\n",
       "15      8       > $500,000          0.835073\n",
       "16      6    25,000-29,999          0.626305\n",
       "17      5    20,000-24,999          0.521921\n",
       "18      5    15,000-19,999          0.521921\n",
       "19      5      1,000-1,999          0.521921\n",
       "20      3      5,000-7,499          0.313152\n",
       "21      3      7,500-9,999          0.313152\n",
       "22      2      2,000-2,999          0.208768\n",
       "23      1      4,000-4,999          0.104384\n",
       "24      1      3,000-3,999          0.104384"
      ]
     },
     "execution_count": 29,
     "metadata": {},
     "output_type": "execute_result"
    }
   ],
   "source": [
    "working_adult_men = men[men[\"Q5\"]!=\"Student\"]\n",
    "working_adult_men = working_adult_men[working_adult_men[\"Q5\"]!=\"Currently not employed\"]\n",
    "working_adult_men = working_adult_men[working_adult_men[\"Q5\"]!=\"Other\"]\n",
    "working_adult_men_USA = working_adult_men[working_adult_men[\"Q3\"]==\"United States of America\"]\n",
    "\n",
    "women_salaries = working_adult_men_USA[\"Q24\"].value_counts()\n",
    "\n",
    "women_percentages = pd.DataFrame(women_salaries.index, women_salaries.values)\n",
    "women_percentages.reset_index(inplace = True)\n",
    "women_percentages[\"percentfromtotal\"] = ((women_percentages[\"index\"]/sum(women_percentages[\"index\"])*100))\n",
    "women_percentages"
   ]
  },
  {
   "cell_type": "code",
   "execution_count": 35,
   "metadata": {},
   "outputs": [],
   "source": [
    "working_adult_women = women[women[\"Q5\"]!=\"Student\"]\n",
    "working_adult_women = working_adult_women[working_adult_women[\"Q5\"]!=\"Currently not employed\"]\n",
    "working_adult_women = working_adult_women[working_adult_women[\"Q5\"]!=\"Other\"]\n",
    "# working_adult_women = women[women[\"Q5\"]!=\"Other\"]\n",
    "working_adult_women_USA = working_adult_women[working_adult_women[\"Q3\"]==\"United States of America\"]\n"
   ]
  },
  {
   "cell_type": "code",
   "execution_count": 36,
   "metadata": {},
   "outputs": [],
   "source": [
    "women_salaries = working_adult_women_USA[\"Q24\"].value_counts()\n",
    "women_percentages = pd.DataFrame(women_salaries.index, women_salaries.values)\n",
    "women_percentages.reset_index(inplace = True)\n",
    "women_percentages[\"percentfromtotal\"] = ((women_percentages[\"index\"]/sum(women_percentages[\"index\"])*100))\n",
    "women_percentages = women_percentages[women_percentages[0] != \"$0-999\"]\n",
    "women_percentages = women_percentages[:7]"
   ]
  },
  {
   "cell_type": "code",
   "execution_count": 37,
   "metadata": {},
   "outputs": [],
   "source": [
    "men_salaries = working_adult_men_USA[\"Q24\"].value_counts()\n",
    "men_percentages = pd.DataFrame(men_salaries.index, men_salaries.values)\n",
    "men_percentages.reset_index(inplace = True)\n",
    "men_percentages[\"percentfromtotal\"] = ((men_percentages[\"index\"]/sum(men_percentages[\"index\"])*100))\n",
    "men_percentages = men_percentages[:7]"
   ]
  },
  {
   "cell_type": "code",
   "execution_count": 32,
   "metadata": {},
   "outputs": [
    {
     "data": {
      "text/plain": [
       "<BarContainer object of 7 artists>"
      ]
     },
     "execution_count": 32,
     "metadata": {},
     "output_type": "execute_result"
    },
    {
     "data": {
      "image/png": "[encoded data removed]",
      "text/plain": [
       "<Figure size 1440x360 with 1 Axes>"
      ]
     },
     "metadata": {
      "needs_background": "light"
     },
     "output_type": "display_data"
    }
   ],
   "source": [
    "pos = list(range(len(men_percentages)))\n",
    "fig, axs = plt.subplots(figsize=(20,5))\n",
    "plt.bar(men_percentages[0], men_percentages[\"percentfromtotal\"], width)\n",
    "plt.bar(women_percentages[0], women_percentages[\"percentfromtotal\"], width, align = \"edge\")"
   ]
  },
  {
   "cell_type": "markdown",
   "metadata": {},
   "source": [
    "As we can see from the graph above, women working in data in the US earn more than their male counterparts in the 100-125 thousand USD range and in the 80-100 thousand USD range. However, they learn less in nearly every other category and no takers of the suvey that were female earned more than 200,000. "
   ]
  },
  {
   "cell_type": "code",
   "execution_count": null,
   "metadata": {},
   "outputs": [],
   "source": []
  }
 ],
 "metadata": {
  "kernelspec": {
   "display_name": "Python 3",
   "language": "python",
   "name": "python3"
  },
  "language_info": {
   "codemirror_mode": {
    "name": "ipython",
    "version": 3
   },
   "file_extension": ".py",
   "mimetype": "text/x-python",
   "name": "python",
   "nbconvert_exporter": "python",
   "pygments_lexer": "ipython3",
   "version": "3.7.7"
  }
 },
 "nbformat": 4,
 "nbformat_minor": 4
}
